{
  "nbformat": 4,
  "nbformat_minor": 0,
  "metadata": {
    "colab": {
      "name": "Assignment of HW server .ipynb",
      "provenance": [],
      "authorship_tag": "ABX9TyNtDb0MatmsWz88IYYNoXtf",
      "include_colab_link": true
    },
    "kernelspec": {
      "name": "python3",
      "display_name": "Python 3"
    },
    "language_info": {
      "name": "python"
    }
  },
  "cells": [
    {
      "cell_type": "markdown",
      "metadata": {
        "id": "view-in-github",
        "colab_type": "text"
      },
      "source": [
        "<a href=\"https://colab.research.google.com/github/smithkanzariya/Machine-Learning-Assignment/blob/main/Assignment_of_HW_server_.ipynb\" target=\"_parent\"><img src=\"https://colab.research.google.com/assets/colab-badge.svg\" alt=\"Open In Colab\"/></a>"
      ]
    },
    {
      "cell_type": "code",
      "source": [
        "# !unzip /content/Files.zip"
      ],
      "metadata": {
        "id": "CFrOiYQh-9cm"
      },
      "execution_count": 207,
      "outputs": []
    },
    {
      "cell_type": "markdown",
      "source": [
        "Importing the dataset"
      ],
      "metadata": {
        "id": "duMS3FqA6rHz"
      }
    },
    {
      "cell_type": "code",
      "source": [
        "import pandas as pd\n",
        "df = pd.read_csv('/content/Raw_Skills_Dataset.csv')"
      ],
      "metadata": {
        "id": "grpO7WouCO6c"
      },
      "execution_count": 208,
      "outputs": []
    },
    {
      "cell_type": "code",
      "source": [
        "df.head()"
      ],
      "metadata": {
        "colab": {
          "base_uri": "https://localhost:8080/",
          "height": 206
        },
        "id": "4fuAckC-Dnro",
        "outputId": "8b131849-ede1-4435-9f6a-12252c8ad187"
      },
      "execution_count": 209,
      "outputs": [
        {
          "output_type": "execute_result",
          "data": {
            "text/plain": [
              "          RAW DATA\n",
              "0         What ifs\n",
              "1        seniority\n",
              "2      familiarity\n",
              "3  functionalities\n",
              "4          Lambdas"
            ],
            "text/html": [
              "\n",
              "  <div id=\"df-c17f75e8-6607-4cbc-b37f-f2037ac58a22\">\n",
              "    <div class=\"colab-df-container\">\n",
              "      <div>\n",
              "<style scoped>\n",
              "    .dataframe tbody tr th:only-of-type {\n",
              "        vertical-align: middle;\n",
              "    }\n",
              "\n",
              "    .dataframe tbody tr th {\n",
              "        vertical-align: top;\n",
              "    }\n",
              "\n",
              "    .dataframe thead th {\n",
              "        text-align: right;\n",
              "    }\n",
              "</style>\n",
              "<table border=\"1\" class=\"dataframe\">\n",
              "  <thead>\n",
              "    <tr style=\"text-align: right;\">\n",
              "      <th></th>\n",
              "      <th>RAW DATA</th>\n",
              "    </tr>\n",
              "  </thead>\n",
              "  <tbody>\n",
              "    <tr>\n",
              "      <th>0</th>\n",
              "      <td>What ifs</td>\n",
              "    </tr>\n",
              "    <tr>\n",
              "      <th>1</th>\n",
              "      <td>seniority</td>\n",
              "    </tr>\n",
              "    <tr>\n",
              "      <th>2</th>\n",
              "      <td>familiarity</td>\n",
              "    </tr>\n",
              "    <tr>\n",
              "      <th>3</th>\n",
              "      <td>functionalities</td>\n",
              "    </tr>\n",
              "    <tr>\n",
              "      <th>4</th>\n",
              "      <td>Lambdas</td>\n",
              "    </tr>\n",
              "  </tbody>\n",
              "</table>\n",
              "</div>\n",
              "      <button class=\"colab-df-convert\" onclick=\"convertToInteractive('df-c17f75e8-6607-4cbc-b37f-f2037ac58a22')\"\n",
              "              title=\"Convert this dataframe to an interactive table.\"\n",
              "              style=\"display:none;\">\n",
              "        \n",
              "  <svg xmlns=\"http://www.w3.org/2000/svg\" height=\"24px\"viewBox=\"0 0 24 24\"\n",
              "       width=\"24px\">\n",
              "    <path d=\"M0 0h24v24H0V0z\" fill=\"none\"/>\n",
              "    <path d=\"M18.56 5.44l.94 2.06.94-2.06 2.06-.94-2.06-.94-.94-2.06-.94 2.06-2.06.94zm-11 1L8.5 8.5l.94-2.06 2.06-.94-2.06-.94L8.5 2.5l-.94 2.06-2.06.94zm10 10l.94 2.06.94-2.06 2.06-.94-2.06-.94-.94-2.06-.94 2.06-2.06.94z\"/><path d=\"M17.41 7.96l-1.37-1.37c-.4-.4-.92-.59-1.43-.59-.52 0-1.04.2-1.43.59L10.3 9.45l-7.72 7.72c-.78.78-.78 2.05 0 2.83L4 21.41c.39.39.9.59 1.41.59.51 0 1.02-.2 1.41-.59l7.78-7.78 2.81-2.81c.8-.78.8-2.07 0-2.86zM5.41 20L4 18.59l7.72-7.72 1.47 1.35L5.41 20z\"/>\n",
              "  </svg>\n",
              "      </button>\n",
              "      \n",
              "  <style>\n",
              "    .colab-df-container {\n",
              "      display:flex;\n",
              "      flex-wrap:wrap;\n",
              "      gap: 12px;\n",
              "    }\n",
              "\n",
              "    .colab-df-convert {\n",
              "      background-color: #E8F0FE;\n",
              "      border: none;\n",
              "      border-radius: 50%;\n",
              "      cursor: pointer;\n",
              "      display: none;\n",
              "      fill: #1967D2;\n",
              "      height: 32px;\n",
              "      padding: 0 0 0 0;\n",
              "      width: 32px;\n",
              "    }\n",
              "\n",
              "    .colab-df-convert:hover {\n",
              "      background-color: #E2EBFA;\n",
              "      box-shadow: 0px 1px 2px rgba(60, 64, 67, 0.3), 0px 1px 3px 1px rgba(60, 64, 67, 0.15);\n",
              "      fill: #174EA6;\n",
              "    }\n",
              "\n",
              "    [theme=dark] .colab-df-convert {\n",
              "      background-color: #3B4455;\n",
              "      fill: #D2E3FC;\n",
              "    }\n",
              "\n",
              "    [theme=dark] .colab-df-convert:hover {\n",
              "      background-color: #434B5C;\n",
              "      box-shadow: 0px 1px 3px 1px rgba(0, 0, 0, 0.15);\n",
              "      filter: drop-shadow(0px 1px 2px rgba(0, 0, 0, 0.3));\n",
              "      fill: #FFFFFF;\n",
              "    }\n",
              "  </style>\n",
              "\n",
              "      <script>\n",
              "        const buttonEl =\n",
              "          document.querySelector('#df-c17f75e8-6607-4cbc-b37f-f2037ac58a22 button.colab-df-convert');\n",
              "        buttonEl.style.display =\n",
              "          google.colab.kernel.accessAllowed ? 'block' : 'none';\n",
              "\n",
              "        async function convertToInteractive(key) {\n",
              "          const element = document.querySelector('#df-c17f75e8-6607-4cbc-b37f-f2037ac58a22');\n",
              "          const dataTable =\n",
              "            await google.colab.kernel.invokeFunction('convertToInteractive',\n",
              "                                                     [key], {});\n",
              "          if (!dataTable) return;\n",
              "\n",
              "          const docLinkHtml = 'Like what you see? Visit the ' +\n",
              "            '<a target=\"_blank\" href=https://colab.research.google.com/notebooks/data_table.ipynb>data table notebook</a>'\n",
              "            + ' to learn more about interactive tables.';\n",
              "          element.innerHTML = '';\n",
              "          dataTable['output_type'] = 'display_data';\n",
              "          await google.colab.output.renderOutput(dataTable, element);\n",
              "          const docLink = document.createElement('div');\n",
              "          docLink.innerHTML = docLinkHtml;\n",
              "          element.appendChild(docLink);\n",
              "        }\n",
              "      </script>\n",
              "    </div>\n",
              "  </div>\n",
              "  "
            ]
          },
          "metadata": {},
          "execution_count": 209
        }
      ]
    },
    {
      "cell_type": "markdown",
      "source": [
        "### Text Preprocessing"
      ],
      "metadata": {
        "id": "p4HtN0Bi2yYq"
      }
    },
    {
      "cell_type": "code",
      "source": [
        "#Data cleaning and preprocessing\n",
        "import re \n",
        "import nltk \n",
        "nltk.download('stopwords')\n",
        "nltk.download('wordnet')\n",
        "from nltk.corpus import stopwords \n",
        "from nltk.stem import WordNetLemmatizer\n",
        "\n",
        "wordnet = WordNetLemmatizer()\n",
        "corpus = []\n",
        "for i in range(len(df)):\n",
        "    reviews = re.sub(\"[^a-zA-Z]\", ' ', df['RAW DATA'][i])\n",
        "    # reviews = reviews.lower()\n",
        "    reviews = reviews.split()\n",
        "    reviews = [wordnet.lemmatize(word) for word in reviews if word not in set(stopwords.words('english'))]\n",
        "    reviews = \" \".join(reviews)\n",
        "    corpus.append(reviews)\n"
      ],
      "metadata": {
        "colab": {
          "base_uri": "https://localhost:8080/"
        },
        "id": "DZOW_sIODpUz",
        "outputId": "c549930d-d07e-4592-8d8d-61eebc999959"
      },
      "execution_count": 210,
      "outputs": [
        {
          "output_type": "stream",
          "name": "stdout",
          "text": [
            "[nltk_data] Downloading package stopwords to /root/nltk_data...\n",
            "[nltk_data]   Package stopwords is already up-to-date!\n",
            "[nltk_data] Downloading package wordnet to /root/nltk_data...\n",
            "[nltk_data]   Package wordnet is already up-to-date!\n"
          ]
        }
      ]
    },
    {
      "cell_type": "code",
      "source": [
        "corpus[:10]"
      ],
      "metadata": {
        "colab": {
          "base_uri": "https://localhost:8080/"
        },
        "id": "q2lxhEbnExmW",
        "outputId": "9e6a4ea8-8e2c-4ec9-f7a9-000479b28a9a"
      },
      "execution_count": 211,
      "outputs": [
        {
          "output_type": "execute_result",
          "data": {
            "text/plain": [
              "['What ifs',\n",
              " 'seniority',\n",
              " 'familiarity',\n",
              " 'functionality',\n",
              " 'Lambdas',\n",
              " 'Java Streams',\n",
              " 'Object Oriented analysis',\n",
              " 'Relational Databases',\n",
              " 'SQL',\n",
              " 'ORM']"
            ]
          },
          "metadata": {},
          "execution_count": 211
        }
      ]
    },
    {
      "cell_type": "markdown",
      "source": [
        "Importing the necessary libraries for Vectorization"
      ],
      "metadata": {
        "id": "9V9-XePV24zx"
      }
    },
    {
      "cell_type": "code",
      "source": [
        "#Using the TF-IDF to vectorize the data\n",
        "from sklearn.feature_extraction.text import TfidfVectorizer\n",
        "from sklearn.cluster import KMeans\n",
        "import numpy as np"
      ],
      "metadata": {
        "id": "uLDAbdZoE9Fy"
      },
      "execution_count": 225,
      "outputs": []
    },
    {
      "cell_type": "code",
      "source": [
        "# Creating a TF-IDF Model\n",
        "from sklearn.feature_extraction.text import TfidfVectorizer\n",
        "vectorizer = TfidfVectorizer(lowercase=False)\n",
        "X = vectorizer.fit_transform(corpus).toarray()"
      ],
      "metadata": {
        "id": "1lwsIaVmFdnR"
      },
      "execution_count": 213,
      "outputs": []
    },
    {
      "cell_type": "markdown",
      "source": [
        "Using the K-Means Clustering algorithm to cluster the data"
      ],
      "metadata": {
        "id": "fmdewmPs36ET"
      }
    },
    {
      "cell_type": "code",
      "source": [
        "true_k = 1\n",
        "model = KMeans(n_clusters=true_k, init='k-means++', max_iter=300, n_init=1)\n",
        "model.fit(X)"
      ],
      "metadata": {
        "colab": {
          "base_uri": "https://localhost:8080/"
        },
        "id": "uPGhnGmZFwe7",
        "outputId": "b8949d6b-2fb9-4ff0-e155-f3831840d369"
      },
      "execution_count": 214,
      "outputs": [
        {
          "output_type": "execute_result",
          "data": {
            "text/plain": [
              "KMeans(n_clusters=1, n_init=1)"
            ]
          },
          "metadata": {},
          "execution_count": 214
        }
      ]
    },
    {
      "cell_type": "code",
      "source": [
        "order_centroids = model.cluster_centers_.argsort()[:, ::-1]\n",
        "terms = vectorizer.get_feature_names()"
      ],
      "metadata": {
        "colab": {
          "base_uri": "https://localhost:8080/"
        },
        "id": "JM_sm8EuF91O",
        "outputId": "4b3706fd-bc51-469b-e875-6cc283b389bb"
      },
      "execution_count": 215,
      "outputs": [
        {
          "output_type": "stream",
          "name": "stderr",
          "text": [
            "/usr/local/lib/python3.7/dist-packages/sklearn/utils/deprecation.py:87: FutureWarning: Function get_feature_names is deprecated; get_feature_names is deprecated in 1.0 and will be removed in 1.2. Please use get_feature_names_out instead.\n",
            "  warnings.warn(msg, category=FutureWarning)\n"
          ]
        }
      ]
    },
    {
      "cell_type": "code",
      "source": [
        "order_centroids.shape"
      ],
      "metadata": {
        "colab": {
          "base_uri": "https://localhost:8080/"
        },
        "id": "AniO1doSySnQ",
        "outputId": "94557bf3-a4ac-4f9c-c484-e4d85341814f"
      },
      "execution_count": 216,
      "outputs": [
        {
          "output_type": "execute_result",
          "data": {
            "text/plain": [
              "(1, 7452)"
            ]
          },
          "metadata": {},
          "execution_count": 216
        }
      ]
    },
    {
      "cell_type": "code",
      "source": [
        "Hard_Skills = []\n",
        "for i in range(true_k):\n",
        " for ind in order_centroids[i, :]:\n",
        "   Hard_Skills.append(terms[ind])"
      ],
      "metadata": {
        "id": "Iob2x9YTGFMj"
      },
      "execution_count": 217,
      "outputs": []
    },
    {
      "cell_type": "markdown",
      "source": [
        "### The Technical skills that are present"
      ],
      "metadata": {
        "id": "1bss8hbQ1ZkP"
      }
    },
    {
      "cell_type": "code",
      "source": [
        "Hard_Skills[:20]"
      ],
      "metadata": {
        "colab": {
          "base_uri": "https://localhost:8080/"
        },
        "id": "9KYZ0AzE1Pdj",
        "outputId": "849dc158-931e-4d8a-9d9e-9d85dc6b7172"
      },
      "execution_count": 224,
      "outputs": [
        {
          "output_type": "execute_result",
          "data": {
            "text/plain": [
              "['AWS',\n",
              " 'SQL',\n",
              " 'Python',\n",
              " 'JavaScript',\n",
              " 'framework',\n",
              " 'Azure',\n",
              " 'development',\n",
              " 'deployment',\n",
              " 'skill',\n",
              " 'environment',\n",
              " 'data',\n",
              " 'automation',\n",
              " 'system',\n",
              " 'Kubernetes',\n",
              " 'documentation',\n",
              " 'Familiarity',\n",
              " 'team',\n",
              " 'HTML',\n",
              " 'software',\n",
              " 'experience']"
            ]
          },
          "metadata": {},
          "execution_count": 224
        }
      ]
    },
    {
      "cell_type": "markdown",
      "source": [
        "### Alternative way to find the Technical Skills in the dataset\n"
      ],
      "metadata": {
        "id": "wIgq7XQhxhr1"
      }
    },
    {
      "cell_type": "markdown",
      "source": [
        "Here we use Topic Modeling- Topic modeling is a method for unsupervised classification of documents, similar to clustering on numeric data, which finds some natural groups of items (topics)."
      ],
      "metadata": {
        "id": "qNn_fhPpxuuN"
      }
    },
    {
      "cell_type": "markdown",
      "source": [
        "We will import Latent Dirichlet Allocation"
      ],
      "metadata": {
        "id": "7ADOszyq5wiz"
      }
    },
    {
      "cell_type": "code",
      "source": [
        "from sklearn.decomposition import LatentDirichletAllocation\n",
        "lda_model=LatentDirichletAllocation(n_components=1,learning_method='online',random_state=42,max_iter=1) \n",
        "lda_top=lda_model.fit_transform(X)\n"
      ],
      "metadata": {
        "id": "Nr-VeWYNRTwU"
      },
      "execution_count": 219,
      "outputs": []
    },
    {
      "cell_type": "code",
      "source": [
        "lda_model.components_.shape"
      ],
      "metadata": {
        "colab": {
          "base_uri": "https://localhost:8080/"
        },
        "id": "NflhuXKquBnQ",
        "outputId": "f1a685bd-cadb-44c6-b069-1bd764dd5a53"
      },
      "execution_count": 220,
      "outputs": [
        {
          "output_type": "execute_result",
          "data": {
            "text/plain": [
              "(1, 7452)"
            ]
          },
          "metadata": {},
          "execution_count": 220
        }
      ]
    },
    {
      "cell_type": "markdown",
      "source": [
        "Some of the Technical skills that are present"
      ],
      "metadata": {
        "id": "3nmuv1tiyyGC"
      }
    },
    {
      "cell_type": "code",
      "source": [
        "# vocab = terms\n",
        "for i, comp in enumerate(lda_model.components_):\n",
        "     vocab_comp = zip(terms, comp)\n",
        "     Technical_skills = sorted(vocab_comp, key= lambda x:x[1], reverse=True)#[:20]\n",
        "    #  print(\"Topic \"+str(i)+\": \")\n",
        "    #  for t in sorted_words:\n",
        "    #         print(t[0],end=\" \")\n",
        "    #         print(\"\\n\")"
      ],
      "metadata": {
        "id": "x-xQKCehsxT_"
      },
      "execution_count": 227,
      "outputs": []
    },
    {
      "cell_type": "markdown",
      "source": [
        "##The Technical Skills Are\n",
        "These are the top 15 technical skills founded by LDA"
      ],
      "metadata": {
        "id": "OTU7TWz70qgu"
      }
    },
    {
      "cell_type": "code",
      "source": [
        "Technical_skills[:15]"
      ],
      "metadata": {
        "colab": {
          "base_uri": "https://localhost:8080/"
        },
        "id": "FcIWrxb5GVsF",
        "outputId": "3411ae2c-2973-4842-9e99-a0f5647b5f9f"
      },
      "execution_count": 228,
      "outputs": [
        {
          "output_type": "execute_result",
          "data": {
            "text/plain": [
              "[('AWS', 373.7676221811341),\n",
              " ('SQL', 356.49832853808175),\n",
              " ('Python', 336.48634749872014),\n",
              " ('development', 308.9891759852366),\n",
              " ('JavaScript', 302.2460114566521),\n",
              " ('Azure', 297.56644768065735),\n",
              " ('skill', 279.5393449047699),\n",
              " ('framework', 274.82930339077967),\n",
              " ('automation', 251.7639089575617),\n",
              " ('environment', 245.93848957394692),\n",
              " ('deployment', 238.25451246107554),\n",
              " ('degree', 218.76115263414744),\n",
              " ('HTML', 215.6382518101045),\n",
              " ('Familiarity', 210.97375243566142),\n",
              " ('Git', 201.87427254281567)]"
            ]
          },
          "metadata": {},
          "execution_count": 228
        }
      ]
    },
    {
      "cell_type": "code",
      "source": [
        ""
      ],
      "metadata": {
        "id": "YIVkWWVDztgC"
      },
      "execution_count": 222,
      "outputs": []
    }
  ]
}