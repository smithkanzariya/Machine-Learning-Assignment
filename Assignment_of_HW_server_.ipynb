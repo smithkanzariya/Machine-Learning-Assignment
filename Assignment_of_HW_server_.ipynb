{
  "nbformat": 4,
  "nbformat_minor": 0,
  "metadata": {
    "colab": {
      "name": "Assignment of HW server .ipynb",
      "provenance": [],
      "authorship_tag": "ABX9TyMIehOFuQi/V74txnYYv7Gp",
      "include_colab_link": true
    },
    "kernelspec": {
      "name": "python3",
      "display_name": "Python 3"
    },
    "language_info": {
      "name": "python"
    }
  },
  "cells": [
    {
      "cell_type": "markdown",
      "metadata": {
        "id": "view-in-github",
        "colab_type": "text"
      },
      "source": [
        "<a href=\"https://colab.research.google.com/github/smithkanzariya/Machine-Learning-Assignment/blob/main/Assignment_of_HW_server_.ipynb\" target=\"_parent\"><img src=\"https://colab.research.google.com/assets/colab-badge.svg\" alt=\"Open In Colab\"/></a>"
      ]
    },
    {
      "cell_type": "code",
      "source": [
        "!unzip /content/Files.zip"
      ],
      "metadata": {
        "id": "CFrOiYQh-9cm",
        "colab": {
          "base_uri": "https://localhost:8080/"
        },
        "outputId": "41c77827-a832-47a7-80d1-e321941fb6f7"
      },
      "execution_count": 1,
      "outputs": [
        {
          "output_type": "stream",
          "name": "stdout",
          "text": [
            "Archive:  /content/Files.zip\n",
            "  inflating: Example_Technical_Skills.csv  \n",
            "  inflating: __MACOSX/._Example_Technical_Skills.csv  \n",
            "  inflating: Raw_Skills_Dataset.csv  \n",
            "  inflating: __MACOSX/._Raw_Skills_Dataset.csv  \n"
          ]
        }
      ]
    },
    {
      "cell_type": "markdown",
      "source": [
        "Importing the dataset"
      ],
      "metadata": {
        "id": "duMS3FqA6rHz"
      }
    },
    {
      "cell_type": "code",
      "source": [
        "import pandas as pd\n",
        "df = pd.read_csv('/content/Raw_Skills_Dataset.csv')"
      ],
      "metadata": {
        "id": "grpO7WouCO6c"
      },
      "execution_count": 2,
      "outputs": []
    },
    {
      "cell_type": "code",
      "source": [
        "df.head()"
      ],
      "metadata": {
        "colab": {
          "base_uri": "https://localhost:8080/",
          "height": 206
        },
        "id": "4fuAckC-Dnro",
        "outputId": "7f27ebf7-ab42-4be6-caf2-f453b9ca8ecb"
      },
      "execution_count": 3,
      "outputs": [
        {
          "output_type": "execute_result",
          "data": {
            "text/plain": [
              "          RAW DATA\n",
              "0         What ifs\n",
              "1        seniority\n",
              "2      familiarity\n",
              "3  functionalities\n",
              "4          Lambdas"
            ],
            "text/html": [
              "\n",
              "  <div id=\"df-cdf57743-e034-4681-9651-edc796495d95\">\n",
              "    <div class=\"colab-df-container\">\n",
              "      <div>\n",
              "<style scoped>\n",
              "    .dataframe tbody tr th:only-of-type {\n",
              "        vertical-align: middle;\n",
              "    }\n",
              "\n",
              "    .dataframe tbody tr th {\n",
              "        vertical-align: top;\n",
              "    }\n",
              "\n",
              "    .dataframe thead th {\n",
              "        text-align: right;\n",
              "    }\n",
              "</style>\n",
              "<table border=\"1\" class=\"dataframe\">\n",
              "  <thead>\n",
              "    <tr style=\"text-align: right;\">\n",
              "      <th></th>\n",
              "      <th>RAW DATA</th>\n",
              "    </tr>\n",
              "  </thead>\n",
              "  <tbody>\n",
              "    <tr>\n",
              "      <th>0</th>\n",
              "      <td>What ifs</td>\n",
              "    </tr>\n",
              "    <tr>\n",
              "      <th>1</th>\n",
              "      <td>seniority</td>\n",
              "    </tr>\n",
              "    <tr>\n",
              "      <th>2</th>\n",
              "      <td>familiarity</td>\n",
              "    </tr>\n",
              "    <tr>\n",
              "      <th>3</th>\n",
              "      <td>functionalities</td>\n",
              "    </tr>\n",
              "    <tr>\n",
              "      <th>4</th>\n",
              "      <td>Lambdas</td>\n",
              "    </tr>\n",
              "  </tbody>\n",
              "</table>\n",
              "</div>\n",
              "      <button class=\"colab-df-convert\" onclick=\"convertToInteractive('df-cdf57743-e034-4681-9651-edc796495d95')\"\n",
              "              title=\"Convert this dataframe to an interactive table.\"\n",
              "              style=\"display:none;\">\n",
              "        \n",
              "  <svg xmlns=\"http://www.w3.org/2000/svg\" height=\"24px\"viewBox=\"0 0 24 24\"\n",
              "       width=\"24px\">\n",
              "    <path d=\"M0 0h24v24H0V0z\" fill=\"none\"/>\n",
              "    <path d=\"M18.56 5.44l.94 2.06.94-2.06 2.06-.94-2.06-.94-.94-2.06-.94 2.06-2.06.94zm-11 1L8.5 8.5l.94-2.06 2.06-.94-2.06-.94L8.5 2.5l-.94 2.06-2.06.94zm10 10l.94 2.06.94-2.06 2.06-.94-2.06-.94-.94-2.06-.94 2.06-2.06.94z\"/><path d=\"M17.41 7.96l-1.37-1.37c-.4-.4-.92-.59-1.43-.59-.52 0-1.04.2-1.43.59L10.3 9.45l-7.72 7.72c-.78.78-.78 2.05 0 2.83L4 21.41c.39.39.9.59 1.41.59.51 0 1.02-.2 1.41-.59l7.78-7.78 2.81-2.81c.8-.78.8-2.07 0-2.86zM5.41 20L4 18.59l7.72-7.72 1.47 1.35L5.41 20z\"/>\n",
              "  </svg>\n",
              "      </button>\n",
              "      \n",
              "  <style>\n",
              "    .colab-df-container {\n",
              "      display:flex;\n",
              "      flex-wrap:wrap;\n",
              "      gap: 12px;\n",
              "    }\n",
              "\n",
              "    .colab-df-convert {\n",
              "      background-color: #E8F0FE;\n",
              "      border: none;\n",
              "      border-radius: 50%;\n",
              "      cursor: pointer;\n",
              "      display: none;\n",
              "      fill: #1967D2;\n",
              "      height: 32px;\n",
              "      padding: 0 0 0 0;\n",
              "      width: 32px;\n",
              "    }\n",
              "\n",
              "    .colab-df-convert:hover {\n",
              "      background-color: #E2EBFA;\n",
              "      box-shadow: 0px 1px 2px rgba(60, 64, 67, 0.3), 0px 1px 3px 1px rgba(60, 64, 67, 0.15);\n",
              "      fill: #174EA6;\n",
              "    }\n",
              "\n",
              "    [theme=dark] .colab-df-convert {\n",
              "      background-color: #3B4455;\n",
              "      fill: #D2E3FC;\n",
              "    }\n",
              "\n",
              "    [theme=dark] .colab-df-convert:hover {\n",
              "      background-color: #434B5C;\n",
              "      box-shadow: 0px 1px 3px 1px rgba(0, 0, 0, 0.15);\n",
              "      filter: drop-shadow(0px 1px 2px rgba(0, 0, 0, 0.3));\n",
              "      fill: #FFFFFF;\n",
              "    }\n",
              "  </style>\n",
              "\n",
              "      <script>\n",
              "        const buttonEl =\n",
              "          document.querySelector('#df-cdf57743-e034-4681-9651-edc796495d95 button.colab-df-convert');\n",
              "        buttonEl.style.display =\n",
              "          google.colab.kernel.accessAllowed ? 'block' : 'none';\n",
              "\n",
              "        async function convertToInteractive(key) {\n",
              "          const element = document.querySelector('#df-cdf57743-e034-4681-9651-edc796495d95');\n",
              "          const dataTable =\n",
              "            await google.colab.kernel.invokeFunction('convertToInteractive',\n",
              "                                                     [key], {});\n",
              "          if (!dataTable) return;\n",
              "\n",
              "          const docLinkHtml = 'Like what you see? Visit the ' +\n",
              "            '<a target=\"_blank\" href=https://colab.research.google.com/notebooks/data_table.ipynb>data table notebook</a>'\n",
              "            + ' to learn more about interactive tables.';\n",
              "          element.innerHTML = '';\n",
              "          dataTable['output_type'] = 'display_data';\n",
              "          await google.colab.output.renderOutput(dataTable, element);\n",
              "          const docLink = document.createElement('div');\n",
              "          docLink.innerHTML = docLinkHtml;\n",
              "          element.appendChild(docLink);\n",
              "        }\n",
              "      </script>\n",
              "    </div>\n",
              "  </div>\n",
              "  "
            ]
          },
          "metadata": {},
          "execution_count": 3
        }
      ]
    },
    {
      "cell_type": "code",
      "source": [
        "df.isnull().sum()"
      ],
      "metadata": {
        "id": "Wz1jIaG2KOII",
        "outputId": "1dfed13e-a2e6-492a-8a52-5e48f66a0383",
        "colab": {
          "base_uri": "https://localhost:8080/"
        }
      },
      "execution_count": 4,
      "outputs": [
        {
          "output_type": "execute_result",
          "data": {
            "text/plain": [
              "RAW DATA    0\n",
              "dtype: int64"
            ]
          },
          "metadata": {},
          "execution_count": 4
        }
      ]
    },
    {
      "cell_type": "markdown",
      "source": [
        "### Text Preprocessing"
      ],
      "metadata": {
        "id": "p4HtN0Bi2yYq"
      }
    },
    {
      "cell_type": "code",
      "source": [
        "#Data cleaning and preprocessing\n",
        "import re \n",
        "import nltk \n",
        "nltk.download('stopwords')\n",
        "nltk.download('wordnet')\n",
        "from nltk.corpus import stopwords \n",
        "from nltk.stem import WordNetLemmatizer\n",
        "\n",
        "wordnet = WordNetLemmatizer()\n",
        "corpus = []\n",
        "for i in range(len(df)):\n",
        "    reviews = re.sub(\"[^a-zA-Z]\", ' ', df['RAW DATA'][i])\n",
        "    # reviews = reviews.lower()\n",
        "    reviews = reviews.split()\n",
        "    reviews = [wordnet.lemmatize(word) for word in reviews if word not in set(stopwords.words('english'))]\n",
        "    reviews = \" \".join(reviews)\n",
        "    corpus.append(reviews)\n"
      ],
      "metadata": {
        "colab": {
          "base_uri": "https://localhost:8080/"
        },
        "id": "DZOW_sIODpUz",
        "outputId": "9abe7cbb-1a98-479c-86ba-7647bb956d79"
      },
      "execution_count": 5,
      "outputs": [
        {
          "output_type": "stream",
          "name": "stdout",
          "text": [
            "[nltk_data] Downloading package stopwords to /root/nltk_data...\n",
            "[nltk_data]   Unzipping corpora/stopwords.zip.\n",
            "[nltk_data] Downloading package wordnet to /root/nltk_data...\n",
            "[nltk_data]   Unzipping corpora/wordnet.zip.\n"
          ]
        }
      ]
    },
    {
      "cell_type": "code",
      "source": [
        "corpus[:10]"
      ],
      "metadata": {
        "colab": {
          "base_uri": "https://localhost:8080/"
        },
        "id": "q2lxhEbnExmW",
        "outputId": "b53291e9-bd2f-4c58-91e6-f331760007a8"
      },
      "execution_count": 6,
      "outputs": [
        {
          "output_type": "execute_result",
          "data": {
            "text/plain": [
              "['What ifs',\n",
              " 'seniority',\n",
              " 'familiarity',\n",
              " 'functionality',\n",
              " 'Lambdas',\n",
              " 'Java Streams',\n",
              " 'Object Oriented analysis',\n",
              " 'Relational Databases',\n",
              " 'SQL',\n",
              " 'ORM']"
            ]
          },
          "metadata": {},
          "execution_count": 6
        }
      ]
    },
    {
      "cell_type": "markdown",
      "source": [
        "Importing the necessary libraries for Vectorization"
      ],
      "metadata": {
        "id": "9V9-XePV24zx"
      }
    },
    {
      "cell_type": "code",
      "source": [
        "#Using the TF-IDF to vectorize the data\n",
        "from sklearn.feature_extraction.text import TfidfVectorizer\n",
        "from sklearn.cluster import KMeans\n",
        "import numpy as np"
      ],
      "metadata": {
        "id": "uLDAbdZoE9Fy"
      },
      "execution_count": 7,
      "outputs": []
    },
    {
      "cell_type": "code",
      "source": [
        "# Creating a TF-IDF Model\n",
        "from sklearn.feature_extraction.text import TfidfVectorizer\n",
        "vectorizer = TfidfVectorizer(lowercase=False)\n",
        "X = vectorizer.fit_transform(corpus).toarray()"
      ],
      "metadata": {
        "id": "1lwsIaVmFdnR"
      },
      "execution_count": 8,
      "outputs": []
    },
    {
      "cell_type": "code",
      "source": [
        "X[0:5]"
      ],
      "metadata": {
        "colab": {
          "base_uri": "https://localhost:8080/"
        },
        "id": "zuVJFGXHPNWZ",
        "outputId": "85e59e44-fd10-414a-d3c4-f4bb944f8b0a"
      },
      "execution_count": 9,
      "outputs": [
        {
          "output_type": "execute_result",
          "data": {
            "text/plain": [
              "array([[0., 0., 0., ..., 0., 0., 0.],\n",
              "       [0., 0., 0., ..., 0., 0., 0.],\n",
              "       [0., 0., 0., ..., 0., 0., 0.],\n",
              "       [0., 0., 0., ..., 0., 0., 0.],\n",
              "       [0., 0., 0., ..., 0., 0., 0.]])"
            ]
          },
          "metadata": {},
          "execution_count": 9
        }
      ]
    },
    {
      "cell_type": "markdown",
      "source": [
        "Using the K-Means Clustering algorithm to cluster the data"
      ],
      "metadata": {
        "id": "fmdewmPs36ET"
      }
    },
    {
      "cell_type": "code",
      "source": [
        "true_k = 1\n",
        "model = KMeans(n_clusters=true_k, init='k-means++', max_iter=300, n_init=1)\n",
        "model.fit(X)"
      ],
      "metadata": {
        "colab": {
          "base_uri": "https://localhost:8080/"
        },
        "id": "uPGhnGmZFwe7",
        "outputId": "c083d0af-9acd-4089-d4cd-cef84a3bff5a"
      },
      "execution_count": 10,
      "outputs": [
        {
          "output_type": "execute_result",
          "data": {
            "text/plain": [
              "KMeans(n_clusters=1, n_init=1)"
            ]
          },
          "metadata": {},
          "execution_count": 10
        }
      ]
    },
    {
      "cell_type": "code",
      "source": [
        "#Collecting centers and the feature names captured by vectorizer\n",
        "order_centroids = model.cluster_centers_.argsort()[:, ::-1]\n",
        "terms = vectorizer.get_feature_names()"
      ],
      "metadata": {
        "colab": {
          "base_uri": "https://localhost:8080/"
        },
        "id": "JM_sm8EuF91O",
        "outputId": "cf796903-65b0-45b2-f96a-126cea01b00b"
      },
      "execution_count": 11,
      "outputs": [
        {
          "output_type": "stream",
          "name": "stderr",
          "text": [
            "/usr/local/lib/python3.7/dist-packages/sklearn/utils/deprecation.py:87: FutureWarning: Function get_feature_names is deprecated; get_feature_names is deprecated in 1.0 and will be removed in 1.2. Please use get_feature_names_out instead.\n",
            "  warnings.warn(msg, category=FutureWarning)\n"
          ]
        }
      ]
    },
    {
      "cell_type": "code",
      "source": [
        "order_centroids.shape"
      ],
      "metadata": {
        "colab": {
          "base_uri": "https://localhost:8080/"
        },
        "id": "AniO1doSySnQ",
        "outputId": "592f3502-c19d-4e53-cc16-1a4eb9385f53"
      },
      "execution_count": 12,
      "outputs": [
        {
          "output_type": "execute_result",
          "data": {
            "text/plain": [
              "(1, 7452)"
            ]
          },
          "metadata": {},
          "execution_count": 12
        }
      ]
    },
    {
      "cell_type": "code",
      "source": [
        "#Creating a list to store the technical skills\n",
        "Hard_Skills = []\n",
        "for i in range(true_k):\n",
        " for ind in order_centroids[i, :]:\n",
        "   Hard_Skills.append(terms[ind])"
      ],
      "metadata": {
        "id": "Iob2x9YTGFMj"
      },
      "execution_count": 13,
      "outputs": []
    },
    {
      "cell_type": "markdown",
      "source": [
        "### The top 20 Technical skills that are present"
      ],
      "metadata": {
        "id": "1bss8hbQ1ZkP"
      }
    },
    {
      "cell_type": "code",
      "source": [
        "Hard_Skills[:20]"
      ],
      "metadata": {
        "colab": {
          "base_uri": "https://localhost:8080/"
        },
        "id": "9KYZ0AzE1Pdj",
        "outputId": "d3106d25-49d0-4580-b14c-017bc5b5974d"
      },
      "execution_count": 14,
      "outputs": [
        {
          "output_type": "execute_result",
          "data": {
            "text/plain": [
              "['AWS',\n",
              " 'SQL',\n",
              " 'Python',\n",
              " 'JavaScript',\n",
              " 'framework',\n",
              " 'Azure',\n",
              " 'development',\n",
              " 'deployment',\n",
              " 'skill',\n",
              " 'environment',\n",
              " 'data',\n",
              " 'automation',\n",
              " 'system',\n",
              " 'Kubernetes',\n",
              " 'documentation',\n",
              " 'Familiarity',\n",
              " 'team',\n",
              " 'HTML',\n",
              " 'software',\n",
              " 'experience']"
            ]
          },
          "metadata": {},
          "execution_count": 14
        }
      ]
    },
    {
      "cell_type": "markdown",
      "source": [
        "### Alternative way to find the Technical Skills in the dataset\n"
      ],
      "metadata": {
        "id": "wIgq7XQhxhr1"
      }
    },
    {
      "cell_type": "markdown",
      "source": [
        "Here we use Topic Modeling- Topic modeling is a method for unsupervised classification of documents, similar to clustering on numeric data, it finds some natural groups of items (topics).\n"
      ],
      "metadata": {
        "id": "qNn_fhPpxuuN"
      }
    },
    {
      "cell_type": "markdown",
      "source": [
        "We will import Latent Dirichlet Allocation"
      ],
      "metadata": {
        "id": "7ADOszyq5wiz"
      }
    },
    {
      "cell_type": "code",
      "source": [
        "from sklearn.decomposition import LatentDirichletAllocation\n",
        "lda_model=LatentDirichletAllocation(n_components=1,learning_method='online',random_state=42,max_iter=1) \n",
        "lda_top=lda_model.fit_transform(X)\n"
      ],
      "metadata": {
        "id": "Nr-VeWYNRTwU"
      },
      "execution_count": 15,
      "outputs": []
    },
    {
      "cell_type": "code",
      "source": [
        "lda_model.components_"
      ],
      "metadata": {
        "colab": {
          "base_uri": "https://localhost:8080/"
        },
        "id": "EnnoFbNHnmkc",
        "outputId": "ca3d8860-7438-4d88-b150-a5ee70eda2fc"
      },
      "execution_count": 24,
      "outputs": [
        {
          "output_type": "execute_result",
          "data": {
            "text/plain": [
              "array([[1.1043775 , 1.11357796, 9.36258122, ..., 1.4180332 , 1.47081356,\n",
              "        7.04894049]])"
            ]
          },
          "metadata": {},
          "execution_count": 24
        }
      ]
    },
    {
      "cell_type": "code",
      "source": [
        "lda_model.components_.shape"
      ],
      "metadata": {
        "colab": {
          "base_uri": "https://localhost:8080/"
        },
        "id": "NflhuXKquBnQ",
        "outputId": "e5ce4a6b-d241-4994-ab87-59b10951a709"
      },
      "execution_count": 16,
      "outputs": [
        {
          "output_type": "execute_result",
          "data": {
            "text/plain": [
              "(1, 7452)"
            ]
          },
          "metadata": {},
          "execution_count": 16
        }
      ]
    },
    {
      "cell_type": "markdown",
      "source": [
        "creating a list called Technical skills to store the technical skills in sorted form."
      ],
      "metadata": {
        "id": "3nmuv1tiyyGC"
      }
    },
    {
      "cell_type": "code",
      "source": [
        "# vocab = terms\n",
        "for i, comp in enumerate(lda_model.components_):\n",
        "     vocab_comp = zip(terms, comp)\n",
        "     Technical_skills = sorted(vocab_comp, key= lambda x:x[1], reverse=True)#[:20]\n",
        "    #  print(\"Topic \"+str(i)+\": \")\n",
        "    #  for t in sorted_words:\n",
        "    #         print(t[0],end=\" \")\n",
        "    #         print(\"\\n\")"
      ],
      "metadata": {
        "id": "x-xQKCehsxT_"
      },
      "execution_count": 17,
      "outputs": []
    },
    {
      "cell_type": "markdown",
      "source": [
        "##The Technical Skills\n",
        "These are the top 15 technical skills founded by LDA"
      ],
      "metadata": {
        "id": "OTU7TWz70qgu"
      }
    },
    {
      "cell_type": "code",
      "source": [
        "Technical_skills[:15]"
      ],
      "metadata": {
        "colab": {
          "base_uri": "https://localhost:8080/"
        },
        "id": "FcIWrxb5GVsF",
        "outputId": "eca8b5f6-d7e8-47c1-b6b3-cfe45461b544"
      },
      "execution_count": 18,
      "outputs": [
        {
          "output_type": "execute_result",
          "data": {
            "text/plain": [
              "[('AWS', 373.7676221811341),\n",
              " ('SQL', 356.49832853808175),\n",
              " ('Python', 336.48634749872014),\n",
              " ('development', 308.9891759852366),\n",
              " ('JavaScript', 302.2460114566521),\n",
              " ('Azure', 297.56644768065735),\n",
              " ('skill', 279.5393449047699),\n",
              " ('framework', 274.82930339077967),\n",
              " ('automation', 251.7639089575617),\n",
              " ('environment', 245.93848957394692),\n",
              " ('deployment', 238.25451246107554),\n",
              " ('degree', 218.76115263414744),\n",
              " ('HTML', 215.6382518101045),\n",
              " ('Familiarity', 210.97375243566142),\n",
              " ('Git', 201.87427254281567)]"
            ]
          },
          "metadata": {},
          "execution_count": 18
        }
      ]
    },
    {
      "cell_type": "markdown",
      "source": [
        "Creating a requirements.txt file"
      ],
      "metadata": {
        "id": "TpP_Ex0i_SUv"
      }
    },
    {
      "cell_type": "code",
      "source": [
        "#  pip freeze > requirements.txt"
      ],
      "metadata": {
        "id": "YIVkWWVDztgC"
      },
      "execution_count": 19,
      "outputs": []
    },
    {
      "cell_type": "code",
      "source": [
        ""
      ],
      "metadata": {
        "id": "49riYFi2_OMM"
      },
      "execution_count": 19,
      "outputs": []
    }
  ]
}